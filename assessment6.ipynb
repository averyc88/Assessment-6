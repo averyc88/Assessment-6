{
  "nbformat": 4,
  "nbformat_minor": 0,
  "metadata": {
    "kernelspec": {
      "display_name": "Python 3",
      "language": "python",
      "name": "python3"
    },
    "language_info": {
      "codemirror_mode": {
        "name": "ipython",
        "version": 3
      },
      "file_extension": ".py",
      "mimetype": "text/x-python",
      "name": "python",
      "nbconvert_exporter": "python",
      "pygments_lexer": "ipython3",
      "version": "3.6.6"
    },
    "colab": {
      "provenance": [],
      "include_colab_link": true
    }
  },
  "cells": [
    {
      "cell_type": "markdown",
      "metadata": {
        "id": "view-in-github",
        "colab_type": "text"
      },
      "source": [
        "<a href=\"https://colab.research.google.com/github/averyc88/Assessment-6/blob/main/assessment6.ipynb\" target=\"_parent\"><img src=\"https://colab.research.google.com/assets/colab-badge.svg\" alt=\"Open In Colab\"/></a>"
      ]
    },
    {
      "cell_type": "markdown",
      "metadata": {
        "id": "_jiGtJu6u9ml"
      },
      "source": [
        "# Copyright\n",
        "\n",
        "<PRE>\n",
        "Copyright (c) 2023 Bálint Gyires-Tóth - All Rights Reserved\n",
        "You may use and modify this code for research and development purpuses.\n",
        "Use this code for educational purposes (self-paced or instructor led) without the permission of the author is prohibited.\n",
        "</PRE>"
      ]
    },
    {
      "cell_type": "markdown",
      "metadata": {
        "id": "oXyFC44jV-PP"
      },
      "source": [
        "# Author classification\n",
        "The task is to train a 1D CNN or an LSTM that is able to  classify text from two authors. The final model should be able to tell about a text with a given length (e.g. 60 characters) who wrote it. \n",
        "\n",
        "Please write the codes according to the following parts:"
      ]
    },
    {
      "cell_type": "markdown",
      "metadata": {
        "id": "jCnLoeGrHXsp"
      },
      "source": [
        "## Python module imports\n",
        "Import all Python modules that you would need during the Assignment."
      ]
    },
    {
      "cell_type": "code",
      "metadata": {
        "id": "7itbFGt3HXVT"
      },
      "source": [
        "from tensorflow.keras.models import Sequential\n",
        "from tensorflow.keras.layers import Dense, Activation, Dropout\n",
        "from tensorflow.keras.layers import LSTM\n",
        "from tensorflow.keras.optimizers import RMSprop\n",
        "from urllib.request import urlretrieve\n",
        "import matplotlib.pyplot as plt\n",
        "import seaborn as sns\n",
        "import pandas as pd\n",
        "import numpy as np\n",
        "import random\n",
        "import sys\n",
        "import re, cgi"
      ],
      "execution_count": 2,
      "outputs": []
    },
    {
      "cell_type": "markdown",
      "metadata": {
        "id": "Hr617tEpHd8R"
      },
      "source": [
        "## Data acquisition\n",
        "Seek a possible dataset, you can use any source, e.g.\n",
        "* http://www.gutenberg.org/\n",
        "* https://www.kaggle.com/datasets\n",
        "* https://paperswithcode.com/datasets\n",
        "* if you would like to learn Hungarian, than e.g. https://mek.oszk.hu/\n",
        "\n",
        "You can download the text by hand (e.g. by copy-pasting some parts into txt files) or with Python. "
      ]
    },
    {
      "cell_type": "code",
      "metadata": {
        "id": "NgkdQxHqHdZB",
        "colab": {
          "base_uri": "https://localhost:8080/"
        },
        "outputId": "86381ffa-2ecc-4501-dc65-8c85ec76dab5"
      },
      "source": [
        "RandJ_data=\"https://www.gutenberg.org/cache/epub/1112/pg1112.txt\"\n",
        "urlretrieve(RandJ_data, 'RandJ.txt')\n",
        "RandJ = open(\"RandJ.txt\", encoding='utf-8-sig').read().lower()\n",
        "\n",
        "Homer_data=\"https://www.gutenberg.org/files/3160/3160-0.txt\"\n",
        "urlretrieve(Homer_data, 'Homer.txt')\n",
        "Homer = open(\"Homer.txt\", encoding='utf-8-sig').read().lower()\n",
        "\n",
        "print('Number of characters in the text:', len(RandJ))\n",
        "print('Number of characters in the text:', len(Homer))\n",
        "\n",
        "dataset = {'Book':['Romeo and Juliet','Homer'],'number of characters': [len(RandJ), len(Homer)]}\n",
        " \n",
        "df = pd.DataFrame(dataset)   \n"
      ],
      "execution_count": 3,
      "outputs": [
        {
          "output_type": "stream",
          "name": "stdout",
          "text": [
            "Number of characters in the text: 174517\n",
            "Number of characters in the text: 717545\n"
          ]
        }
      ]
    },
    {
      "cell_type": "code",
      "source": [
        "print(df)"
      ],
      "metadata": {
        "colab": {
          "base_uri": "https://localhost:8080/"
        },
        "id": "hpahMMWLVPXz",
        "outputId": "c12d33af-dd2b-4283-df3c-94533ccd5499"
      },
      "execution_count": 4,
      "outputs": [
        {
          "output_type": "stream",
          "name": "stdout",
          "text": [
            "               Book  number of characters\n",
            "0  Romeo and Juliet                174517\n",
            "1             Homer                717545\n"
          ]
        }
      ]
    },
    {
      "cell_type": "markdown",
      "source": [
        "## Data analysis\n",
        "Count the number of characters from both authors and display them on a plot (e.g. Seaborn's countplot)."
      ],
      "metadata": {
        "id": "U9Pmq91t3SRD"
      }
    },
    {
      "cell_type": "code",
      "source": [
        "# char_dict = []\n",
        "# char_dict.append([len(RandJ)])\n",
        "# char_dict.append([len(Homer)])\n",
        "# print(char_dict)\n",
        "\n",
        "sns.countplot(data=df, x=\"Book\")\n",
        " \n",
        "# Show the plot\n",
        "plt.show()"
      ],
      "metadata": {
        "id": "uRqGdn4F3Spk",
        "colab": {
          "base_uri": "https://localhost:8080/",
          "height": 449
        },
        "outputId": "7edcbe22-7528-406c-d55a-64481459b2e1"
      },
      "execution_count": 5,
      "outputs": [
        {
          "output_type": "display_data",
          "data": {
            "text/plain": [
              "<Figure size 640x480 with 1 Axes>"
            ],
            "image/png": "[encoded data removed]"
          },
          "metadata": {}
        }
      ]
    },
    {
      "cell_type": "markdown",
      "metadata": {
        "id": "cHyE_ndGIblJ"
      },
      "source": [
        "## Data loading, labeling and preprocessing\n",
        "Load the data and convert the characters into one-hot encodings. Then load the data into a 3D NumPy array, with a shape of\n",
        "\n",
        "* (batch, sequence_length, alphabet_length)\n",
        "\n",
        "where sequence_length=60, and alphabet_length equals to the number of unique characters in both datasets. The sequences should be cut out from the complete dataset by sliding window. You should add 0 and 1 labels to the sequences, according to the author. \n",
        "\n",
        "Later you may change sequence_length to achieve better results!"
      ]
    },
    {
      "cell_type": "code",
      "metadata": {
        "id": "arooXt0WIb6x",
        "colab": {
          "base_uri": "https://localhost:8080/"
        },
        "outputId": "a7f06e30-e634-42ba-f154-187855d6a121"
      },
      "source": [
        "RandJ_chars = sorted(list(set(RandJ)))\n",
        "Homer_chars = sorted(list(set(Homer)))\n",
        "\n",
        "# print(RandJ_chars)\n",
        "# print(Homer_chars)\n",
        "\n",
        "RandJ_char_indices = dict((c, i) for i, c in enumerate(RandJ_chars))\n",
        "RandJ_indices = dict((i, c) for i, c in enumerate(RandJ_chars))\n",
        "\n",
        "Homer_char_indices = dict((c, i) for i, c in enumerate(Homer_chars))\n",
        "Homer_indices = dict((i, c) for i, c in enumerate(Homer_chars))\n",
        "\n",
        "# print (\"Indices to char dictionary:\", RandJ_indices)\n",
        "# print (\"Indices to char dictionary:\", Homer_indices)\n",
        "\n",
        "all_char_indices = (RandJ_char_indices | Homer_char_indices)\n",
        "all_indices = (RandJ_indices | Homer_indices)\n",
        "\n",
        "print(all_char_indices)\n",
        "print(all_indices)\n",
        "\n"
      ],
      "execution_count": 6,
      "outputs": [
        {
          "output_type": "stream",
          "name": "stdout",
          "text": [
            "{'\\n': 0, ' ': 1, '!': 2, '\"': 3, '#': 4, '$': 5, '%': 6, \"'\": 8, '(': 9, ')': 10, '*': 11, ',': 12, '-': 13, '.': 14, '/': 15, '0': 16, '1': 17, '2': 18, '3': 19, '4': 20, '5': 21, '6': 22, '7': 23, '8': 24, '9': 25, ':': 26, ';': 27, '<': 27, '>': 28, '?': 28, '@': 30, '[': 29, ']': 30, 'a': 33, 'b': 34, 'c': 35, 'd': 36, 'e': 37, 'f': 38, 'g': 39, 'h': 40, 'i': 41, 'j': 42, 'k': 43, 'l': 44, 'm': 45, 'n': 46, 'o': 47, 'p': 48, 'q': 49, 'r': 50, 's': 51, 't': 52, 'u': 53, 'v': 54, 'w': 55, 'x': 56, 'y': 57, 'z': 58, '&': 7, '_': 31, '`': 32, 'ä': 59, 'æ': 60, 'é': 61, 'ë': 62, 'œ': 63, 'α': 64, 'δ': 65, 'ε': 66, 'θ': 67, 'ι': 68, 'κ': 69, 'λ': 70, 'μ': 71, 'ν': 72, 'ο': 73, 'π': 74, 'ρ': 75, 'ς': 76, 'τ': 77, 'φ': 78, 'ἀ': 79, 'ὲ': 80, 'έ': 81, 'ύ': 82, '—': 83, '‘': 84, '’': 85, '“': 86, '”': 87}\n",
            "{0: '\\n', 1: ' ', 2: '!', 3: '\"', 4: '#', 5: '$', 6: '%', 7: '&', 8: \"'\", 9: '(', 10: ')', 11: '*', 12: ',', 13: '-', 14: '.', 15: '/', 16: '0', 17: '1', 18: '2', 19: '3', 20: '4', 21: '5', 22: '6', 23: '7', 24: '8', 25: '9', 26: ':', 27: ';', 28: '?', 29: '[', 30: ']', 31: '_', 32: '`', 33: 'a', 34: 'b', 35: 'c', 36: 'd', 37: 'e', 38: 'f', 39: 'g', 40: 'h', 41: 'i', 42: 'j', 43: 'k', 44: 'l', 45: 'm', 46: 'n', 47: 'o', 48: 'p', 49: 'q', 50: 'r', 51: 's', 52: 't', 53: 'u', 54: 'v', 55: 'w', 56: 'x', 57: 'y', 58: 'z', 59: 'ä', 60: 'æ', 61: 'é', 62: 'ë', 63: 'œ', 64: 'α', 65: 'δ', 66: 'ε', 67: 'θ', 68: 'ι', 69: 'κ', 70: 'λ', 71: 'μ', 72: 'ν', 73: 'ο', 74: 'π', 75: 'ρ', 76: 'ς', 77: 'τ', 78: 'φ', 79: 'ἀ', 80: 'ὲ', 81: 'έ', 82: 'ύ', 83: '—', 84: '‘', 85: '’', 86: '“', 87: '”'}\n"
          ]
        }
      ]
    },
    {
      "cell_type": "code",
      "source": [
        "seqlen  = 60\n",
        "step    = 50\n",
        "\n",
        "sequence = []\n",
        "RandJ_label = []\n",
        "Homer_label = []\n",
        "all_labels = []"
      ],
      "metadata": {
        "id": "ppqKJ386OCi6"
      },
      "execution_count": 51,
      "outputs": []
    },
    {
      "cell_type": "code",
      "source": [
        "for i in range(0, len(RandJ) - seqlen + 1, step):\n",
        "    sequence.append(RandJ[i:i+seqlen])\n",
        "    RandJ_label.append(0) \n",
        "\n",
        "for i in range(0, len(Homer) - seqlen + 1, step):\n",
        "    sequence.append(Homer[i:i+seqlen])\n",
        "    Homer_label.append(1) \n",
        "\n",
        "all_labels = RandJ_label + Homer_label\n",
        "\n",
        "# for i in range(0, len(RandJ)-seqlen, step):\n",
        "#   RandJ_sentences.append(RandJ[i:i + seqlen])\n",
        "#   RandJ_next_chars.append(RandJ[i+seqlen])\n",
        "\n",
        "# for i in range(0, len(Homer)-seqlen, step):\n",
        "#   Homer_sentences.append(Homer[i:i + seqlen])\n",
        "#   Homer_next_chars.append(Homer[i+seqlen])\n"
      ],
      "metadata": {
        "id": "_u07dMApOqIl"
      },
      "execution_count": 52,
      "outputs": []
    },
    {
      "cell_type": "code",
      "source": [
        "print('Number of training samples:', len(all_labels)) \n",
        "print('Number of sequences:', len(sequence))"
      ],
      "metadata": {
        "colab": {
          "base_uri": "https://localhost:8080/"
        },
        "id": "HHsX1FtXXnEi",
        "outputId": "3cea92a3-64a2-4490-f6fa-4673c15a1fd7"
      },
      "execution_count": 53,
      "outputs": [
        {
          "output_type": "stream",
          "name": "stdout",
          "text": [
            "Number of training samples: 17840\n",
            "Number of sequences: 17840\n"
          ]
        }
      ]
    },
    {
      "cell_type": "code",
      "source": [
        "batch = len(all_labels)\n",
        "\n",
        "alphabet_length = len(all_char_indices)\n",
        "\n",
        "X = np.zeros((batch, seqlen, alphabet_length), dtype=float)\n",
        "Y = np.zeros((batch,1), dtype=float)\n"
      ],
      "metadata": {
        "id": "VUIfBMw8XyYm"
      },
      "execution_count": 54,
      "outputs": []
    },
    {
      "cell_type": "code",
      "source": [
        "for i, sentence in enumerate(sequence):\n",
        "    for t, char in enumerate(sentence): \n",
        "      X[i, t, all_char_indices[char]] = 1\n",
        "    Y[i, 0] = all_labels[i]\n",
        "    \n",
        "print (\"Shape of the input data:\", X.shape)\n",
        "print (\"Shape of the target data:\", Y.shape)"
      ],
      "metadata": {
        "colab": {
          "base_uri": "https://localhost:8080/"
        },
        "id": "JRFRq9p0kKqL",
        "outputId": "c9b2ac7d-eadf-484f-b26c-2bb4b15cac4c"
      },
      "execution_count": 55,
      "outputs": [
        {
          "output_type": "stream",
          "name": "stdout",
          "text": [
            "Shape of the input data: (17840, 60, 91)\n",
            "Shape of the target data: (17840, 1)\n"
          ]
        }
      ]
    },
    {
      "cell_type": "markdown",
      "metadata": {
        "id": "lL1Mc8ibHnep"
      },
      "source": [
        "## Data splitting\n",
        "Split the data into train, validate and test sets. Make "
      ]
    },
    {
      "cell_type": "code",
      "source": [
        "valid_split = 0.2\n",
        "test_split  = 0.1\n",
        "\n",
        "RandJ_num = len(RandJ_label)\n",
        "Homer_num = len(Homer_label)\n",
        "\n",
        "valid_point_1 = int((RandJ_num * (1 - valid_split - test_split)))\n",
        "train_point_1 = int((RandJ_num * (1 - test_split)))\n",
        "\n",
        "valid_point_2 = int((Homer_num * (1 - valid_split - test_split)))\n",
        "train_point_2 = int((Homer_num * (1 - test_split)))\n",
        "\n",
        "X_1 = X[:RandJ_num]\n",
        "X_2 = X[RandJ_num:]\n",
        "\n",
        "X_train_1 = X_1[:valid_point_1] \n",
        "X_train_2 = X_2[:valid_point_2] \n",
        "\n",
        "X_valid_1 = X_1[valid_point_1:train_point_1]\n",
        "X_valid_2 = X_2[valid_point_2:train_point_2]\n",
        "\n",
        "X_test_1 = X_1[train_point_1:]\n",
        "X_test_2 = X_2[train_point_2:]\n",
        "\n",
        "Y_1 = Y[:RandJ_num] \n",
        "Y_2 = Y[RandJ_num:]\n",
        "\n",
        "Y_train_1 = Y_1[:valid_point_1] \n",
        "Y_train_2 = Y_2[:valid_point_2] \n",
        "\n",
        "Y_valid_1 = Y_1[valid_point_1:train_point_1]\n",
        "Y_valid_2 = Y_2[valid_point_2:train_point_2]\n",
        "\n",
        "Y_test_1 = Y_1[train_point_1:]\n",
        "Y_test_2 = Y_2[train_point_2:]\n",
        "\n",
        "X_train = np.concatenate((X_train_1,X_train_2))\n",
        "X_valid = np.concatenate((X_valid_1,X_valid_2))\n",
        "X_test = np.concatenate((X_test_1,X_test_2))\n",
        "\n",
        "Y_train = np.concatenate((Y_train_1,Y_train_2))\n",
        "Y_valid = np.concatenate((Y_valid_1,Y_valid_2))\n",
        "Y_test = np.concatenate((Y_test_1,Y_test_2))"
      ],
      "metadata": {
        "id": "uDSLvoMOS5zr"
      },
      "execution_count": 56,
      "outputs": []
    },
    {
      "cell_type": "markdown",
      "metadata": {
        "id": "hA8U9tr7HrNQ"
      },
      "source": [
        "## Model definition\n",
        "Define a 1D CNN or an LSTM for the task. Compile the model with the correct loss function."
      ]
    },
    {
      "cell_type": "code",
      "metadata": {
        "id": "BT1V1s4kHuUe"
      },
      "source": [
        "# model = Sequential()\n",
        "# model.add(LSTM(128, input_shape=(X.shape[-2], X.shape[-1])))\n",
        "# model.add(Dense(alphabet_length))\n",
        "# model.add(Activation('softmax'))"
      ],
      "execution_count": 57,
      "outputs": []
    },
    {
      "cell_type": "code",
      "source": [
        "# optimizer = RMSprop(learning_rate=0.01)\n",
        "# model.compile(loss='categorical_crossentropy', optimizer=optimizer)"
      ],
      "metadata": {
        "id": "g1-4J9s2TjaM"
      },
      "execution_count": 58,
      "outputs": []
    },
    {
      "cell_type": "code",
      "source": [
        "from tensorflow.keras.layers import Dense, Activation, Dropout, Flatten, Conv1D, MaxPooling1D, Reshape\n",
        "from tensorflow.keras.callbacks import EarlyStopping\n",
        "\n",
        "\n",
        "nb_filter       = 40   # number of filter/kernels in the convolutional layers\n",
        "filter_length   = 8  # length of the filter/kernel in the convolutional layers\n",
        "window_size     = X_train.shape[1] # the window size defined by the dataset\n",
        "nb_features     = X_train.shape[2] # the number of features of the input data\n",
        "nb_outputs      = Y_train.shape[1] # the number of outputs (defined by the target data)\n",
        "\n",
        "model = Sequential()\n",
        "model.add(Conv1D(filters=nb_filter, kernel_size=filter_length, activation='relu', kernel_initializer='he_normal', input_shape=(window_size, nb_features)))\n",
        "model.add(MaxPooling1D())\n",
        "model.add(Dropout(0.3))\n",
        "model.add(Conv1D(filters=nb_filter, kernel_size=filter_length, activation='relu', kernel_initializer='he_normal'))\n",
        "model.add(MaxPooling1D())\n",
        "model.add(Dropout(0.3))\n",
        "model.add(Flatten())\n",
        "model.add(Dense(128, activation='relu'))\n",
        "model.add(Dropout(0.3))\n",
        "model.add(Dense(nb_outputs, activation='softmax'))"
      ],
      "metadata": {
        "id": "PQmVZ3jqmXi8"
      },
      "execution_count": 59,
      "outputs": []
    },
    {
      "cell_type": "code",
      "source": [
        "optimizer = RMSprop(learning_rate=0.01)\n",
        "model.compile(loss='binary_crossentropy', optimizer=optimizer, metrics = [\"accuracy\"])"
      ],
      "metadata": {
        "id": "ykaPoKWSmisV"
      },
      "execution_count": 60,
      "outputs": []
    },
    {
      "cell_type": "code",
      "source": [
        "model.summary()\n"
      ],
      "metadata": {
        "colab": {
          "base_uri": "https://localhost:8080/"
        },
        "id": "WIrjJtkRm91e",
        "outputId": "d87d01a9-2494-4dfa-a2c8-30db00c45c2e"
      },
      "execution_count": 61,
      "outputs": [
        {
          "output_type": "stream",
          "name": "stdout",
          "text": [
            "Model: \"sequential_9\"\n",
            "_________________________________________________________________\n",
            " Layer (type)                Output Shape              Param #   \n",
            "=================================================================\n",
            " conv1d_12 (Conv1D)          (None, 53, 40)            29160     \n",
            "                                                                 \n",
            " max_pooling1d_10 (MaxPoolin  (None, 26, 40)           0         \n",
            " g1D)                                                            \n",
            "                                                                 \n",
            " dropout_14 (Dropout)        (None, 26, 40)            0         \n",
            "                                                                 \n",
            " conv1d_13 (Conv1D)          (None, 19, 40)            12840     \n",
            "                                                                 \n",
            " max_pooling1d_11 (MaxPoolin  (None, 9, 40)            0         \n",
            " g1D)                                                            \n",
            "                                                                 \n",
            " dropout_15 (Dropout)        (None, 9, 40)             0         \n",
            "                                                                 \n",
            " flatten_4 (Flatten)         (None, 360)               0         \n",
            "                                                                 \n",
            " dense_9 (Dense)             (None, 128)               46208     \n",
            "                                                                 \n",
            " dropout_16 (Dropout)        (None, 128)               0         \n",
            "                                                                 \n",
            " dense_10 (Dense)            (None, 1)                 129       \n",
            "                                                                 \n",
            "=================================================================\n",
            "Total params: 88,337\n",
            "Trainable params: 88,337\n",
            "Non-trainable params: 0\n",
            "_________________________________________________________________\n"
          ]
        }
      ]
    },
    {
      "cell_type": "markdown",
      "metadata": {
        "id": "hWFb-nAMHuAI"
      },
      "source": [
        "## Model training\n",
        "Train the model and apply early stopping."
      ]
    },
    {
      "cell_type": "code",
      "metadata": {
        "id": "dvgKjqp3Hwkp"
      },
      "source": [
        "es = EarlyStopping(patience=4, restore_best_weights=True, monitor=\"val_accuracy\")"
      ],
      "execution_count": 62,
      "outputs": []
    },
    {
      "cell_type": "code",
      "source": [
        "model.fit(X_train, Y_train, \n",
        "          epochs=200, \n",
        "          validation_data=(X_valid, Y_valid),\n",
        "          callbacks=[es],\n",
        "          verbose=2)"
      ],
      "metadata": {
        "colab": {
          "base_uri": "https://localhost:8080/"
        },
        "id": "n9O_jpBenPwS",
        "outputId": "5a2a9c25-02fa-4af6-c412-dd3af5e12bfd"
      },
      "execution_count": 63,
      "outputs": [
        {
          "output_type": "stream",
          "name": "stdout",
          "text": [
            "Epoch 1/200\n",
            "391/391 - 7s - loss: 0.1288 - accuracy: 0.8044 - val_loss: 0.0307 - val_accuracy: 0.8044 - 7s/epoch - 19ms/step\n",
            "Epoch 2/200\n",
            "391/391 - 7s - loss: 0.0458 - accuracy: 0.8044 - val_loss: 0.0494 - val_accuracy: 0.8044 - 7s/epoch - 18ms/step\n",
            "Epoch 3/200\n",
            "391/391 - 6s - loss: 0.0354 - accuracy: 0.8044 - val_loss: 0.0558 - val_accuracy: 0.8044 - 6s/epoch - 16ms/step\n",
            "Epoch 4/200\n",
            "391/391 - 7s - loss: 0.0296 - accuracy: 0.8044 - val_loss: 0.0384 - val_accuracy: 0.8044 - 7s/epoch - 17ms/step\n",
            "Epoch 5/200\n",
            "391/391 - 7s - loss: 0.0319 - accuracy: 0.8044 - val_loss: 0.0490 - val_accuracy: 0.8044 - 7s/epoch - 17ms/step\n"
          ]
        },
        {
          "output_type": "execute_result",
          "data": {
            "text/plain": [
              "<keras.callbacks.History at 0x7f13bb6df4c0>"
            ]
          },
          "metadata": {},
          "execution_count": 63
        }
      ]
    },
    {
      "cell_type": "markdown",
      "metadata": {
        "id": "0omw2XzSHwOo"
      },
      "source": [
        "## Evaluation on test data\n",
        "Evaluate the model on the test data in terms of loss and accuracy."
      ]
    },
    {
      "cell_type": "code",
      "metadata": {
        "id": "4bF3dQA1Hv_R",
        "colab": {
          "base_uri": "https://localhost:8080/"
        },
        "outputId": "f61a7beb-df0d-4ae1-c01f-b1cc876d7c5a"
      },
      "source": [
        "eval = model.evaluate(X_test,Y_test)\n",
        "print(\"Test loss:\",eval[0])\n",
        "print(\"Test accuracy:\",eval[1])"
      ],
      "execution_count": 64,
      "outputs": [
        {
          "output_type": "stream",
          "name": "stdout",
          "text": [
            "56/56 [==============================] - 0s 5ms/step - loss: 0.7033 - accuracy: 0.8044\n",
            "Test loss: 0.7033206820487976\n",
            "Test accuracy: 0.8043721914291382\n"
          ]
        }
      ]
    },
    {
      "cell_type": "markdown",
      "metadata": {
        "id": "4Y73Q-h5Hz1r"
      },
      "source": [
        "## Confusion matrix\n",
        "Calculate and display the confusion matrix."
      ]
    },
    {
      "cell_type": "code",
      "metadata": {
        "id": "cW8zZi1uJm2B",
        "colab": {
          "base_uri": "https://localhost:8080/"
        },
        "outputId": "255676f6-743f-4069-f7d4-b0de32019777"
      },
      "source": [
        "from sklearn.metrics import confusion_matrix, classification_report\n",
        "\n",
        "preds = model.predict(X_test)\n",
        "print(classification_report(np.argmax(Y_test,1),np.argmax(preds,1)))\n",
        "\n"
      ],
      "execution_count": 65,
      "outputs": [
        {
          "output_type": "stream",
          "name": "stdout",
          "text": [
            "56/56 [==============================] - 0s 6ms/step\n",
            "              precision    recall  f1-score   support\n",
            "\n",
            "           0       1.00      1.00      1.00      1784\n",
            "\n",
            "    accuracy                           1.00      1784\n",
            "   macro avg       1.00      1.00      1.00      1784\n",
            "weighted avg       1.00      1.00      1.00      1784\n",
            "\n"
          ]
        }
      ]
    },
    {
      "cell_type": "code",
      "source": [
        "conf=confusion_matrix(np.argmax(Y_test,1),np.argmax(preds,1))\n",
        "sns.heatmap(conf, annot=True, fmt='d', vmax=100)"
      ],
      "metadata": {
        "colab": {
          "base_uri": "https://localhost:8080/",
          "height": 448
        },
        "id": "-8ugobVgovsi",
        "outputId": "ffbd481f-f899-4d24-e5f3-062d354466f8"
      },
      "execution_count": 66,
      "outputs": [
        {
          "output_type": "execute_result",
          "data": {
            "text/plain": [
              "<Axes: >"
            ]
          },
          "metadata": {},
          "execution_count": 66
        },
        {
          "output_type": "display_data",
          "data": {
            "text/plain": [
              "<Figure size 640x480 with 2 Axes>"
            ],
            "image/png": "[encoded data removed]"
          },
          "metadata": {}
        }
      ]
    }
  ]
}